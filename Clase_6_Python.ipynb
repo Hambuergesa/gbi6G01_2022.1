{
  "nbformat": 4,
  "nbformat_minor": 0,
  "metadata": {
    "colab": {
      "name": "Clase_6_Python.ipynb",
      "provenance": [],
      "authorship_tag": "ABX9TyPYBIcBfVoNLfMhHyc5lgT7",
      "include_colab_link": true
    },
    "kernelspec": {
      "name": "python3",
      "display_name": "Python 3"
    },
    "language_info": {
      "name": "python"
    }
  },
  "cells": [
    {
      "cell_type": "markdown",
      "metadata": {
        "id": "view-in-github",
        "colab_type": "text"
      },
      "source": [
        "<a href=\"https://colab.research.google.com/github/Hambuergesa/gbi6G01_2022.1/blob/lucia/Clase_6_Python.ipynb\" target=\"_parent\"><img src=\"https://colab.research.google.com/assets/colab-badge.svg\" alt=\"Open In Colab\"/></a>"
      ]
    },
    {
      "cell_type": "markdown",
      "source": [
        "#BIOINFORMÁTICA\n",
        "\n",
        "## CLASE 6: Introduccion a Python\n",
        "\n",
        "En esta clase vamos a revisar los siguientes contenidos:\n",
        "\n",
        "1. Historia de python\n",
        "2. Tipo de datos\n",
        "3. Operacion con muneros\n",
        "4. Operaciones con texto\n",
        "\n",
        "\n"
      ],
      "metadata": {
        "id": "ZVc31rpwx9XA"
      }
    },
    {
      "cell_type": "markdown",
      "source": [
        "## 1. Historia de python \n",
        "La historia de python se puede leer en la pagina web [python](https://docs.python.org/3/)"
      ],
      "metadata": {
        "id": "9d-epZH24Lzi"
      }
    },
    {
      "cell_type": "markdown",
      "source": [
        "## 2. TIPO DE DATOS\n",
        "\n",
        "- Numéricos: \n",
        "  * Enteros (integer,int)\n",
        "  * Decimales (double)\n",
        "  * Complejos (complex)\n",
        "- Lógicos\n",
        "  * Verdadero (TRUE,T)\n",
        "  * Falso (FALSE,F)\n",
        "- Texto\n",
        "  * Cadena de carácteres \"simpre entre comillas\"\n"
      ],
      "metadata": {
        "id": "UOYQ3xqb0fWl"
      }
    },
    {
      "cell_type": "code",
      "execution_count": 10,
      "metadata": {
        "id": "iQSGGPC6wulD"
      },
      "outputs": [],
      "source": [
        "gen1_r = 1.5\n",
        "gen1_h = 1.7\n",
        "dif_gen1 = gen1_r - gen1_h\n",
        "ratio_gen1 = gen1_r / gen1_h"
      ]
    },
    {
      "cell_type": "code",
      "source": [
        "print(\"gen1_h\", gen1_h)\n",
        "print(\"gen1_r\", gen1_r)\n",
        "print(\"dif_gen1\", dif_gen1)\n",
        "print(\"ratio_gen1\", ratio_gen1)"
      ],
      "metadata": {
        "colab": {
          "base_uri": "https://localhost:8080/"
        },
        "id": "8LkU_a_G12cM",
        "outputId": "d9d64509-e44b-4ddd-aa1a-8c9a1292d6f0"
      },
      "execution_count": 18,
      "outputs": [
        {
          "output_type": "stream",
          "name": "stdout",
          "text": [
            "gen1_h 1.7\n",
            "gen1_r 1.5\n",
            "dif_gen1 -0.19999999999999996\n",
            "ratio_gen1 0.8823529411764706\n"
          ]
        }
      ]
    },
    {
      "cell_type": "markdown",
      "source": [
        "## Operaciones con texto"
      ],
      "metadata": {
        "id": "HYYt5OM175Bn"
      }
    },
    {
      "cell_type": "code",
      "source": [
        "saludo = \"hola con tod@s, que bueno que no hay examen\"\n",
        "saludo.upper()"
      ],
      "metadata": {
        "colab": {
          "base_uri": "https://localhost:8080/",
          "height": 35
        },
        "id": "R2e8V2W479TB",
        "outputId": "92b4c405-9d67-4244-c07b-c5e57b5b2eb7"
      },
      "execution_count": 66,
      "outputs": [
        {
          "output_type": "execute_result",
          "data": {
            "text/plain": [
              "'HOLA CON TOD@S, QUE BUENO QUE NO HAY EXAMEN'"
            ],
            "application/vnd.google.colaboratory.intrinsic+json": {
              "type": "string"
            }
          },
          "metadata": {},
          "execution_count": 66
        }
      ]
    },
    {
      "cell_type": "code",
      "source": [
        "len(saludo)"
      ],
      "metadata": {
        "colab": {
          "base_uri": "https://localhost:8080/"
        },
        "id": "Xzt3m-wD15WE",
        "outputId": "bdeec5a6-1674-4600-c60a-57a822cab100"
      },
      "execution_count": 25,
      "outputs": [
        {
          "output_type": "execute_result",
          "data": {
            "text/plain": [
              "43"
            ]
          },
          "metadata": {},
          "execution_count": 25
        }
      ]
    },
    {
      "cell_type": "code",
      "source": [
        "# En este bloque se revisa la combinacion de funciones\n",
        "total = len(saludo)\n",
        "char_a = saludo.count(\"a\")\n",
        "ratio_a = 100*char_a / total\n",
        "print(\"porcentaje de a: \" , ratio_a)"
      ],
      "metadata": {
        "colab": {
          "base_uri": "https://localhost:8080/"
        },
        "id": "EiqWAqig-T1G",
        "outputId": "b4c6c559-0f65-46dd-91a8-ce700b001295"
      },
      "execution_count": 63,
      "outputs": [
        {
          "output_type": "stream",
          "name": "stdout",
          "text": [
            "porcentaje de a:  7.142857142857143\n"
          ]
        }
      ]
    },
    {
      "cell_type": "code",
      "source": [
        "round(ratio_a, 2)"
      ],
      "metadata": {
        "colab": {
          "base_uri": "https://localhost:8080/"
        },
        "id": "44VS7o3i_SRm",
        "outputId": "24a14212-34ca-4bcf-f7e0-dec02d2e1976"
      },
      "execution_count": 30,
      "outputs": [
        {
          "output_type": "execute_result",
          "data": {
            "text/plain": [
              "6.98"
            ]
          },
          "metadata": {},
          "execution_count": 30
        }
      ]
    },
    {
      "cell_type": "markdown",
      "source": [
        "#Porcentaje de GC\n",
        "Calcular el porcentaje de contenido de nucleotidos C y G en la siguiente secuencia. "
      ],
      "metadata": {
        "id": "GkaJcrUt9eqq"
      }
    },
    {
      "cell_type": "code",
      "source": [
        "p53l1 =\"TTCCTGGNCTGTAGGTAGCGACTACAGTTAGGGGGCACCTAGCATTCAGGCCCTCATCCTCCTCCTTCCCAGCAGGGTGTCACGCTTCTCCGAAGACTGGATGACTGCCATGGAGGAGTCACAGTCGGATATCAGCCTCGAGCTCCCTCTGAGCCAGGAGACATTTTCAGGCTTATGGAAACTACTTCCTCCAGAAGATATCCTGCCATC\"\n",
        "total_p53l1 = len(p53l1)\n",
        "char_p53l1 = p53l1.count(\"G\") + p53l1.count(\"C\")\n",
        "ratio_p53l1 = 100*char_p53l1 / total_p53l1\n",
        "print(\"porcentaje de GC en el Gen p53 linea 1 =\", ratio_p53l1)"
      ],
      "metadata": {
        "colab": {
          "base_uri": "https://localhost:8080/"
        },
        "id": "GlUCNMTA_8lR",
        "outputId": "d906e147-125e-4759-c298-5b3bb84b3aa8"
      },
      "execution_count": 99,
      "outputs": [
        {
          "output_type": "stream",
          "name": "stdout",
          "text": [
            "porcentaje de GC en el Gen p53 linea 1 = 54.285714285714285\n"
          ]
        }
      ]
    },
    {
      "cell_type": "code",
      "source": [
        "p53_l1 = \"TTCCTGGNCTGTAGGTAGCGACTACAGTTAGGGGGCACCTAGCATTCAGGCCCTCATCCTCCTCCTTCCCAGCAGGGTGTCACGCTTCTCCGAAGACTGGATGACTGCCATGGAGGAGTCACAGTCGGATATCAGCCTCGAGCTCCCTCTGAGCCAGGAGACATTTTCAGGCTTATGGAAACTACTTCCTCCAGAAGATATCCTGCCATC\"\n",
        "percent_GC = 100*(p53_l1.count(\"G\") + p53_l1.count(\"C\"))/len(p53_l1)\n",
        "print(\"porcentaje de GC en p53_linea1: \", round(percent_GC, 3))"
      ],
      "metadata": {
        "colab": {
          "base_uri": "https://localhost:8080/"
        },
        "id": "PPXw-bMmD1gv",
        "outputId": "8257b66e-cccc-4558-d33e-7ab6f608bbfe"
      },
      "execution_count": 101,
      "outputs": [
        {
          "output_type": "stream",
          "name": "stdout",
          "text": [
            "porcentaje de GC en p53_linea1:  54.286\n"
          ]
        }
      ]
    },
    {
      "cell_type": "code",
      "source": [
        "# subconjunto\n",
        "print (p53_l1)\n",
        "fi = p53_l1.find(\"TAC\") # sí se tine\n",
        "ff1 = p53_l1.find(\"ATT\") # sí se tiene\n",
        "ff2 = p53_l1.find(\"ATC\")\n",
        "ff3 = p53_l1.find(\"ACT\")"
      ],
      "metadata": {
        "colab": {
          "base_uri": "https://localhost:8080/"
        },
        "id": "AKrJRG98Gefm",
        "outputId": "beafcd38-0053-427f-8c86-ec16508c94b6"
      },
      "execution_count": 102,
      "outputs": [
        {
          "output_type": "stream",
          "name": "stdout",
          "text": [
            "TTCCTGGNCTGTAGGTAGCGACTACAGTTAGGGGGCACCTAGCATTCAGGCCCTCATCCTCCTCCTTCCCAGCAGGGTGTCACGCTTCTCCGAAGACTGGATGACTGCCATGGAGGAGTCACAGTCGGATATCAGCCTCGAGCTCCCTCTGAGCCAGGAGACATTTTCAGGCTTATGGAAACTACTTCCTCCAGAAGATATCCTGCCATC\n"
          ]
        }
      ]
    },
    {
      "cell_type": "code",
      "source": [
        "p53_l1 [3:6 ]\n",
        "p53_l1 [0:2 ]\n",
        "mRNA_f1 = p53_l1 [fi:ff1+3]\n",
        "mRNA_f1"
      ],
      "metadata": {
        "colab": {
          "base_uri": "https://localhost:8080/",
          "height": 35
        },
        "id": "x92VJOfbOIsV",
        "outputId": "9f5ee68b-4516-4675-c903-002377efee3e"
      },
      "execution_count": 103,
      "outputs": [
        {
          "output_type": "execute_result",
          "data": {
            "text/plain": [
              "'TACAGTTAGGGGGCACCTAGCATT'"
            ],
            "application/vnd.google.colaboratory.intrinsic+json": {
              "type": "string"
            }
          },
          "metadata": {},
          "execution_count": 103
        }
      ]
    },
    {
      "cell_type": "code",
      "source": [
        "#Cadena complementaria \n",
        "print(saludo)\n",
        "saludo.replace(\"@\" , \"e\")"
      ],
      "metadata": {
        "colab": {
          "base_uri": "https://localhost:8080/",
          "height": 53
        },
        "id": "P2W4Apa5Q2JU",
        "outputId": "323de89b-f02e-430b-e31f-b409103883fa"
      },
      "execution_count": 104,
      "outputs": [
        {
          "output_type": "stream",
          "name": "stdout",
          "text": [
            "hola con tod@s, que bueno que no hay examen\n"
          ]
        },
        {
          "output_type": "execute_result",
          "data": {
            "text/plain": [
              "'hola con todes, que bueno que no hay examen'"
            ],
            "application/vnd.google.colaboratory.intrinsic+json": {
              "type": "string"
            }
          },
          "metadata": {},
          "execution_count": 104
        }
      ]
    },
    {
      "cell_type": "code",
      "source": [
        "p53_a = p53_l1.replace(\"A\",\"t\")\n",
        "p53_t = p53_a.replace(\"T\",\"a\")\n",
        "p53_c = p53_t.replace(\"G\",\"c\")\n",
        "p53_g = p53_c.replace(\"C\",\"g\")\n",
        "p53_final = p53_g\n",
        "p53_complementario = p53_final.upper()\n",
        "p53_complementario"
      ],
      "metadata": {
        "colab": {
          "base_uri": "https://localhost:8080/",
          "height": 53
        },
        "id": "L_7Dwa5mRsZ1",
        "outputId": "252675ff-cda6-4750-8e62-54addad1d00e"
      },
      "execution_count": 105,
      "outputs": [
        {
          "output_type": "execute_result",
          "data": {
            "text/plain": [
              "'AAGGACCNGACATCCATCGCTGATGTCAATCCCCCGTGGATCGTAAGTCCGGGAGTAGGAGGAGGAAGGGTCGTCCCACAGTGCGAAGAGGCTTCTGACCTACTGACGGTACCTCCTCAGTGTCAGCCTATAGTCGGAGCTCGAGGGAGACTCGGTCCTCTGTAAAAGTCCGAATACCTTTGATGAAGGAGGTCTTCTATAGGACGGTAG'"
            ],
            "application/vnd.google.colaboratory.intrinsic+json": {
              "type": "string"
            }
          },
          "metadata": {},
          "execution_count": 105
        }
      ]
    },
    {
      "cell_type": "code",
      "source": [
        "print(p53_l1)\n",
        "print(p53_complementario)"
      ],
      "metadata": {
        "colab": {
          "base_uri": "https://localhost:8080/"
        },
        "id": "aYU4prfZTUsW",
        "outputId": "d402d1be-a819-4682-dfa7-a10d4576a97e"
      },
      "execution_count": 106,
      "outputs": [
        {
          "output_type": "stream",
          "name": "stdout",
          "text": [
            "TTCCTGGNCTGTAGGTAGCGACTACAGTTAGGGGGCACCTAGCATTCAGGCCCTCATCCTCCTCCTTCCCAGCAGGGTGTCACGCTTCTCCGAAGACTGGATGACTGCCATGGAGGAGTCACAGTCGGATATCAGCCTCGAGCTCCCTCTGAGCCAGGAGACATTTTCAGGCTTATGGAAACTACTTCCTCCAGAAGATATCCTGCCATC\n",
            "AAGGACCNGACATCCATCGCTGATGTCAATCCCCCGTGGATCGTAAGTCCGGGAGTAGGAGGAGGAAGGGTCGTCCCACAGTGCGAAGAGGCTTCTGACCTACTGACGGTACCTCCTCAGTGTCAGCCTATAGTCGGAGCTCGAGGGAGACTCGGTCCTCTGTAAAAGTCCGAATACCTTTGATGAAGGAGGTCTTCTATAGGACGGTAG\n"
          ]
        }
      ]
    },
    {
      "cell_type": "code",
      "source": [
        "p53_l1c_r = p53_complementario[::-1]\n",
        "print(\"Original =\", p53_complementario)\n",
        "print(\"Complemento reverso =\", p53_l1c_r)"
      ],
      "metadata": {
        "colab": {
          "base_uri": "https://localhost:8080/"
        },
        "id": "d4v9NHntUowQ",
        "outputId": "c4f88bad-d653-4d7f-ee63-a8128ef897b5"
      },
      "execution_count": 107,
      "outputs": [
        {
          "output_type": "stream",
          "name": "stdout",
          "text": [
            "Original = AAGGACCNGACATCCATCGCTGATGTCAATCCCCCGTGGATCGTAAGTCCGGGAGTAGGAGGAGGAAGGGTCGTCCCACAGTGCGAAGAGGCTTCTGACCTACTGACGGTACCTCCTCAGTGTCAGCCTATAGTCGGAGCTCGAGGGAGACTCGGTCCTCTGTAAAAGTCCGAATACCTTTGATGAAGGAGGTCTTCTATAGGACGGTAG\n",
            "Complemento reverso = GATGGCAGGATATCTTCTGGAGGAAGTAGTTTCCATAAGCCTGAAAATGTCTCCTGGCTCAGAGGGAGCTCGAGGCTGATATCCGACTGTGACTCCTCCATGGCAGTCATCCAGTCTTCGGAGAAGCGTGACACCCTGCTGGGAAGGAGGAGGATGAGGGCCTGAATGCTAGGTGCCCCCTAACTGTAGTCGCTACCTACAGNCCAGGAA\n"
          ]
        }
      ]
    },
    {
      "cell_type": "code",
      "source": [
        "# subconjunto 2\n",
        "print (p53_l1c_r)\n",
        "fi_c = p53_l1c_r.find (\"TAC\") # sí se tine\n",
        "ff1_c = p53_l1c_r.find (\"ATT\") # sí se tiene\n",
        "ff2_c = p53_l1c_r.find (\"ATC\")\n",
        "ff3_c = p53_l1c_r.find (\"ACT\")\n",
        "print(\"codon de inicio =\", fi_c)\n",
        "print(\"codon de final 1 = \", ff1_c)\n",
        "print(\"codon de final 2 = \", ff2_c)\n",
        "print(\"codon de final 3 = \", ff3_c)"
      ],
      "metadata": {
        "colab": {
          "base_uri": "https://localhost:8080/"
        },
        "id": "o7OE0S2KWXkD",
        "outputId": "ea3c361d-a765-484e-b4a6-63af7d8bb267"
      },
      "execution_count": 108,
      "outputs": [
        {
          "output_type": "stream",
          "name": "stdout",
          "text": [
            "GATGGCAGGATATCTTCTGGAGGAAGTAGTTTCCATAAGCCTGAAAATGTCTCCTGGCTCAGAGGGAGCTCGAGGCTGATATCCGACTGTGACTCCTCCATGGCAGTCATCCAGTCTTCGGAGAAGCGTGACACCCTGCTGGGAAGGAGGAGGATGAGGGCCTGAATGCTAGGTGCCCCCTAACTGTAGTCGCTACCTACAGNCCAGGAA\n",
            "codon de inicio = 193\n",
            "codon de final 1 =  -1\n",
            "codon de final 2 =  11\n",
            "codon de final 3 =  85\n"
          ]
        }
      ]
    }
  ]
}